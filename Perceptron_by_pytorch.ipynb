{
  "nbformat": 4,
  "nbformat_minor": 0,
  "metadata": {
    "colab": {
      "name": "Perceptron_by_pytorch.ipynb",
      "provenance": [],
      "collapsed_sections": [],
      "machine_shape": "hm",
      "authorship_tag": "ABX9TyN5Ibe794yWl0rx/zqUppri",
      "include_colab_link": true
    },
    "kernelspec": {
      "name": "python3",
      "display_name": "Python 3"
    },
    "accelerator": "GPU"
  },
  "cells": [
    {
      "cell_type": "markdown",
      "metadata": {
        "id": "view-in-github",
        "colab_type": "text"
      },
      "source": [
        "<a href=\"https://colab.research.google.com/github/Yngie-C/Is_this_book_in/blob/master/Perceptron_by_pytorch.ipynb\" target=\"_parent\"><img src=\"https://colab.research.google.com/assets/colab-badge.svg\" alt=\"Open In Colab\"/></a>"
      ]
    },
    {
      "cell_type": "markdown",
      "metadata": {
        "id": "lkluYkfkc4DO",
        "colab_type": "text"
      },
      "source": [
        "# XOR 문제 - 단층 퍼셉트론 구현하기"
      ]
    },
    {
      "cell_type": "code",
      "metadata": {
        "id": "JhhIVRRCf9iT",
        "colab_type": "code",
        "colab": {}
      },
      "source": [
        "import torch\n",
        "import torch.nn as nn"
      ],
      "execution_count": null,
      "outputs": []
    },
    {
      "cell_type": "code",
      "metadata": {
        "id": "NaGL8QM9gCSx",
        "colab_type": "code",
        "colab": {}
      },
      "source": [
        "device = \"cuda\" if torch.cuda.is_available() else \"cpu\"\n",
        "\n",
        "torch.manual_seed(777)\n",
        "\n",
        "if device == \"cuda\":\n",
        "    torch.cuda.manual_seed_all(777)"
      ],
      "execution_count": null,
      "outputs": []
    },
    {
      "cell_type": "code",
      "metadata": {
        "id": "_xa417QTgUWl",
        "colab_type": "code",
        "colab": {}
      },
      "source": [
        "X = torch.FloatTensor([[0,0], [0,1], [1,0], [1,1]]).to(device)\n",
        "Y = torch.FloatTensor([[0], [1], [1], [0]]).to(device)"
      ],
      "execution_count": null,
      "outputs": []
    },
    {
      "cell_type": "code",
      "metadata": {
        "id": "RNgGl6QXgpZ4",
        "colab_type": "code",
        "colab": {}
      },
      "source": [
        "linear = nn.Linear(2, 1, bias=True)\n",
        "sigmoid = nn.Sigmoid()\n",
        "model = nn.Sequential(linear, sigmoid).to(device)"
      ],
      "execution_count": null,
      "outputs": []
    },
    {
      "cell_type": "markdown",
      "metadata": {
        "id": "c_x2G0Gwc5ds",
        "colab_type": "text"
      },
      "source": [
        ""
      ]
    },
    {
      "cell_type": "code",
      "metadata": {
        "id": "UhYFuuZDhAOb",
        "colab_type": "code",
        "colab": {}
      },
      "source": [
        "criterion = nn.BCELoss().to(device)\n",
        "optimizer = torch.optim.SGD(model.parameters(), lr=1)"
      ],
      "execution_count": null,
      "outputs": []
    },
    {
      "cell_type": "code",
      "metadata": {
        "id": "9Y_56a1ohKMu",
        "colab_type": "code",
        "colab": {
          "base_uri": "https://localhost:8080/",
          "height": 1000
        },
        "outputId": "df578d57-1397-43a1-b3c6-c387edb9248b"
      },
      "source": [
        "for step in range(10001):\n",
        "    optimizer.zero_grad()\n",
        "    hypothesis = model(X)\n",
        "\n",
        "    cost = criterion(hypothesis, Y)\n",
        "    cost.backward()\n",
        "    optimizer.step()\n",
        "\n",
        "    if step % 100 == 0:\n",
        "        print(step, cost.item())"
      ],
      "execution_count": null,
      "outputs": [
        {
          "output_type": "stream",
          "text": [
            "0 0.7273974418640137\n",
            "100 0.6931475400924683\n",
            "200 0.6931471824645996\n",
            "300 0.6931471824645996\n",
            "400 0.6931471824645996\n",
            "500 0.6931471824645996\n",
            "600 0.6931471824645996\n",
            "700 0.6931471824645996\n",
            "800 0.6931471824645996\n",
            "900 0.6931471824645996\n",
            "1000 0.6931471824645996\n",
            "1100 0.6931471824645996\n",
            "1200 0.6931471824645996\n",
            "1300 0.6931471824645996\n",
            "1400 0.6931471824645996\n",
            "1500 0.6931471824645996\n",
            "1600 0.6931471824645996\n",
            "1700 0.6931471824645996\n",
            "1800 0.6931471824645996\n",
            "1900 0.6931471824645996\n",
            "2000 0.6931471824645996\n",
            "2100 0.6931471824645996\n",
            "2200 0.6931471824645996\n",
            "2300 0.6931471824645996\n",
            "2400 0.6931471824645996\n",
            "2500 0.6931471824645996\n",
            "2600 0.6931471824645996\n",
            "2700 0.6931471824645996\n",
            "2800 0.6931471824645996\n",
            "2900 0.6931471824645996\n",
            "3000 0.6931471824645996\n",
            "3100 0.6931471824645996\n",
            "3200 0.6931471824645996\n",
            "3300 0.6931471824645996\n",
            "3400 0.6931471824645996\n",
            "3500 0.6931471824645996\n",
            "3600 0.6931471824645996\n",
            "3700 0.6931471824645996\n",
            "3800 0.6931471824645996\n",
            "3900 0.6931471824645996\n",
            "4000 0.6931471824645996\n",
            "4100 0.6931471824645996\n",
            "4200 0.6931471824645996\n",
            "4300 0.6931471824645996\n",
            "4400 0.6931471824645996\n",
            "4500 0.6931471824645996\n",
            "4600 0.6931471824645996\n",
            "4700 0.6931471824645996\n",
            "4800 0.6931471824645996\n",
            "4900 0.6931471824645996\n",
            "5000 0.6931471824645996\n",
            "5100 0.6931471824645996\n",
            "5200 0.6931471824645996\n",
            "5300 0.6931471824645996\n",
            "5400 0.6931471824645996\n",
            "5500 0.6931471824645996\n",
            "5600 0.6931471824645996\n",
            "5700 0.6931471824645996\n",
            "5800 0.6931471824645996\n",
            "5900 0.6931471824645996\n",
            "6000 0.6931471824645996\n",
            "6100 0.6931471824645996\n",
            "6200 0.6931471824645996\n",
            "6300 0.6931471824645996\n",
            "6400 0.6931471824645996\n",
            "6500 0.6931471824645996\n",
            "6600 0.6931471824645996\n",
            "6700 0.6931471824645996\n",
            "6800 0.6931471824645996\n",
            "6900 0.6931471824645996\n",
            "7000 0.6931471824645996\n",
            "7100 0.6931471824645996\n",
            "7200 0.6931471824645996\n",
            "7300 0.6931471824645996\n",
            "7400 0.6931471824645996\n",
            "7500 0.6931471824645996\n",
            "7600 0.6931471824645996\n",
            "7700 0.6931471824645996\n",
            "7800 0.6931471824645996\n",
            "7900 0.6931471824645996\n",
            "8000 0.6931471824645996\n",
            "8100 0.6931471824645996\n",
            "8200 0.6931471824645996\n",
            "8300 0.6931471824645996\n",
            "8400 0.6931471824645996\n",
            "8500 0.6931471824645996\n",
            "8600 0.6931471824645996\n",
            "8700 0.6931471824645996\n",
            "8800 0.6931471824645996\n",
            "8900 0.6931471824645996\n",
            "9000 0.6931471824645996\n",
            "9100 0.6931471824645996\n",
            "9200 0.6931471824645996\n",
            "9300 0.6931471824645996\n",
            "9400 0.6931471824645996\n",
            "9500 0.6931471824645996\n",
            "9600 0.6931471824645996\n",
            "9700 0.6931471824645996\n",
            "9800 0.6931471824645996\n",
            "9900 0.6931471824645996\n",
            "10000 0.6931471824645996\n"
          ],
          "name": "stdout"
        }
      ]
    },
    {
      "cell_type": "code",
      "metadata": {
        "id": "a5OFHzeHiTKQ",
        "colab_type": "code",
        "colab": {
          "base_uri": "https://localhost:8080/",
          "height": 238
        },
        "outputId": "82ed8648-8155-4679-acb4-b38a18bbbe49"
      },
      "source": [
        "with torch.no_grad():\n",
        "    hypothesis = model(X)\n",
        "    predicted = (hypothesis > 0.5).float()\n",
        "    accuracy = (predicted == Y).float().mean()\n",
        "\n",
        "    print('모델의 출력값(Hypothesis): ', hypothesis.detach().cpu().numpy())\n",
        "    print('모델의 예측값(Predicted): ', predicted.detach().cpu().numpy())\n",
        "    print('실제값(Y): ', Y.cpu().numpy())\n",
        "    print('정확도(Accuracy): ', accuracy.item())"
      ],
      "execution_count": null,
      "outputs": [
        {
          "output_type": "stream",
          "text": [
            "모델의 출력값(Hypothesis):  [[0.5]\n",
            " [0.5]\n",
            " [0.5]\n",
            " [0.5]]\n",
            "모델의 예측값(Predicted):  [[0.]\n",
            " [0.]\n",
            " [0.]\n",
            " [0.]]\n",
            "실제값(Y):  [[0.]\n",
            " [1.]\n",
            " [1.]\n",
            " [0.]]\n",
            "정확도(Accuracy):  0.5\n"
          ],
          "name": "stdout"
        }
      ]
    },
    {
      "cell_type": "markdown",
      "metadata": {
        "id": "OiGMsbKhcyo8",
        "colab_type": "text"
      },
      "source": [
        "# XOR 문제 - 다층 퍼셉트론 구현하기"
      ]
    },
    {
      "cell_type": "code",
      "metadata": {
        "id": "3c4YOLDzirtH",
        "colab_type": "code",
        "colab": {}
      },
      "source": [
        "import torch\n",
        "import torch.nn as nn"
      ],
      "execution_count": 22,
      "outputs": []
    },
    {
      "cell_type": "code",
      "metadata": {
        "id": "0zpbLYO3c9nu",
        "colab_type": "code",
        "colab": {}
      },
      "source": [
        "device = 'cuda' if torch.cuda.is_available() else 'cpu'\n",
        "\n",
        "torch.manual_seed(777)\n",
        "if device == 'cuda':\n",
        "    torch.cuda.manual_seed_all(777)"
      ],
      "execution_count": 14,
      "outputs": []
    },
    {
      "cell_type": "code",
      "metadata": {
        "id": "mqTSGALQdM8h",
        "colab_type": "code",
        "colab": {}
      },
      "source": [
        "X = torch.FloatTensor([[0,0], [0,1], [1,0], [1,1]]).to(device)\n",
        "Y = torch.FloatTensor([[0], [1], [1], [0]]).to(device)"
      ],
      "execution_count": 15,
      "outputs": []
    },
    {
      "cell_type": "code",
      "metadata": {
        "id": "E_WOVK8tdRTJ",
        "colab_type": "code",
        "colab": {}
      },
      "source": [
        "model = nn.Sequential(\n",
        "    nn.Linear(2, 10, bias=True),\n",
        "    nn.Sigmoid(),\n",
        "    nn.Linear(10, 10, bias=True),\n",
        "    nn.Sigmoid(),\n",
        "    nn.Linear(10, 10, bias=True),\n",
        "    nn.Sigmoid(),\n",
        "    nn.Linear(10, 1, bias=True),\n",
        "    nn.Sigmoid()\n",
        ").to(device)"
      ],
      "execution_count": 16,
      "outputs": []
    },
    {
      "cell_type": "code",
      "metadata": {
        "id": "fr_2AjLidkGs",
        "colab_type": "code",
        "colab": {}
      },
      "source": [
        "criterion = torch.nn.BCELoss().to(device)\n",
        "optimizer = torch.optim.SGD(model.parameters(), lr=1)"
      ],
      "execution_count": 17,
      "outputs": []
    },
    {
      "cell_type": "code",
      "metadata": {
        "id": "PEB9xyuPdpW3",
        "colab_type": "code",
        "colab": {
          "base_uri": "https://localhost:8080/",
          "height": 1000
        },
        "outputId": "a5d10ee8-342d-4339-aebb-f64f0b9c4998"
      },
      "source": [
        "for epoch in range(10001):\n",
        "    optimizer.zero_grad()\n",
        "    hypothesis = model(X)\n",
        "\n",
        "    cost = criterion(hypothesis, Y)\n",
        "    cost.backward()\n",
        "    optimizer.step()\n",
        "\n",
        "    if epoch % 100 == 0:\n",
        "        print(epoch, cost.item())"
      ],
      "execution_count": 18,
      "outputs": [
        {
          "output_type": "stream",
          "text": [
            "0 0.6948983669281006\n",
            "100 0.6931558847427368\n",
            "200 0.6931535005569458\n",
            "300 0.6931514143943787\n",
            "400 0.6931493282318115\n",
            "500 0.6931473016738892\n",
            "600 0.6931453943252563\n",
            "700 0.6931434869766235\n",
            "800 0.6931416988372803\n",
            "900 0.6931397914886475\n",
            "1000 0.6931380033493042\n",
            "1100 0.6931361556053162\n",
            "1200 0.6931343078613281\n",
            "1300 0.6931324005126953\n",
            "1400 0.6931304931640625\n",
            "1500 0.6931284666061401\n",
            "1600 0.6931264400482178\n",
            "1700 0.6931242942810059\n",
            "1800 0.6931220293045044\n",
            "1900 0.6931196451187134\n",
            "2000 0.6931171417236328\n",
            "2100 0.6931145191192627\n",
            "2200 0.6931116580963135\n",
            "2300 0.6931085586547852\n",
            "2400 0.6931051015853882\n",
            "2500 0.6931014657020569\n",
            "2600 0.6930974721908569\n",
            "2700 0.6930930018424988\n",
            "2800 0.6930880546569824\n",
            "2900 0.6930825710296631\n",
            "3000 0.6930763125419617\n",
            "3100 0.6930692791938782\n",
            "3200 0.6930612325668335\n",
            "3300 0.6930519342422485\n",
            "3400 0.6930411458015442\n",
            "3500 0.693028450012207\n",
            "3600 0.6930133104324341\n",
            "3700 0.6929951906204224\n",
            "3800 0.6929728984832764\n",
            "3900 0.6929453015327454\n",
            "4000 0.692910373210907\n",
            "4100 0.6928649544715881\n",
            "4200 0.6928046941757202\n",
            "4300 0.6927220225334167\n",
            "4400 0.6926040649414062\n",
            "4500 0.6924278736114502\n",
            "4600 0.6921480298042297\n",
            "4700 0.6916664838790894\n",
            "4800 0.6907395124435425\n",
            "4900 0.6886202096939087\n",
            "5000 0.6820816993713379\n",
            "5100 0.6472525000572205\n",
            "5200 0.4493931233882904\n",
            "5300 0.03998958319425583\n",
            "5400 0.009627417661249638\n",
            "5500 0.00500385370105505\n",
            "5600 0.0032832976430654526\n",
            "5700 0.0024094812106341124\n",
            "5800 0.0018878383561968803\n",
            "5900 0.0015439644921571016\n",
            "6000 0.001301448792219162\n",
            "6100 0.0011218584841117263\n",
            "6200 0.0009839022532105446\n",
            "6300 0.0008748103864490986\n",
            "6400 0.0007865793304517865\n",
            "6500 0.0007137604989111423\n",
            "6600 0.0006527717341668904\n",
            "6700 0.0006009715143591166\n",
            "6800 0.0005564350867643952\n",
            "6900 0.000517789856530726\n",
            "7000 0.0004839467001147568\n",
            "7100 0.0004540703375823796\n",
            "7200 0.0004275043320376426\n",
            "7300 0.0004037565959151834\n",
            "7400 0.0003824243904091418\n",
            "7500 0.000363134837243706\n",
            "7600 0.00034560466883704066\n",
            "7700 0.00032965486752800643\n",
            "7800 0.0003150319680571556\n",
            "7900 0.0003015868132933974\n",
            "8000 0.00028922996716573834\n",
            "8100 0.0002777974586933851\n",
            "8200 0.000267184863332659\n",
            "8300 0.00025731761706992984\n",
            "8400 0.00024813611526042223\n",
            "8500 0.00023955086362548172\n",
            "8600 0.00023153208894655108\n",
            "8700 0.0002239903260488063\n",
            "8800 0.0002169553772546351\n",
            "8900 0.00021027818729635328\n",
            "9000 0.00020400344510562718\n",
            "9100 0.00019807156058959663\n",
            "9200 0.00019248250464443117\n",
            "9300 0.0001871468557510525\n",
            "9400 0.00018212418945040554\n",
            "9500 0.0001773400290403515\n",
            "9600 0.00017277945880778134\n",
            "9700 0.00016850206884555519\n",
            "9800 0.00016435884754173458\n",
            "9900 0.0001604242715984583\n",
            "10000 0.00015668346895836294\n"
          ],
          "name": "stdout"
        }
      ]
    },
    {
      "cell_type": "code",
      "metadata": {
        "id": "mCnWeMZ1eAPV",
        "colab_type": "code",
        "colab": {
          "base_uri": "https://localhost:8080/",
          "height": 238
        },
        "outputId": "d3a9f60a-e1e5-459f-dadf-6bb3bbec918d"
      },
      "source": [
        "with torch.no_grad():\n",
        "    hypothesis = model(X)\n",
        "    predicted = (hypothesis > 0.5).float()\n",
        "    accuracy = (predicted == Y).float().mean()\n",
        "    \n",
        "    print('모델의 출력값(Hypothesis): ', hypothesis.detach().cpu().numpy())\n",
        "    print('모델의 예측값(Predicted): ', predicted.detach().cpu().numpy())\n",
        "    print('실제값(Y): ', Y.cpu().numpy())\n",
        "    print('정확도(Accuracy): ', accuracy.item())"
      ],
      "execution_count": 24,
      "outputs": [
        {
          "output_type": "stream",
          "text": [
            "모델의 출력값(Hypothesis):  [[1.11791465e-04]\n",
            " [9.99828696e-01]\n",
            " [9.99842167e-01]\n",
            " [1.85544617e-04]]\n",
            "모델의 예측값(Predicted):  [[0.]\n",
            " [1.]\n",
            " [1.]\n",
            " [0.]]\n",
            "실제값(Y):  [[0.]\n",
            " [1.]\n",
            " [1.]\n",
            " [0.]]\n",
            "정확도(Accuracy):  1.0\n"
          ],
          "name": "stdout"
        }
      ]
    },
    {
      "cell_type": "markdown",
      "metadata": {
        "id": "X0ofjRMcfxKH",
        "colab_type": "text"
      },
      "source": [
        "# 다층 퍼셉트론으로 손글씨 분류하기"
      ]
    },
    {
      "cell_type": "code",
      "metadata": {
        "id": "Ha6wYVXRem-o",
        "colab_type": "code",
        "colab": {}
      },
      "source": [
        "%matplotlib inline\n",
        "import matplotlib.pyplot as plt\n",
        "from sklearn.datasets import load_digits\n",
        "digits = load_digits()"
      ],
      "execution_count": 25,
      "outputs": []
    },
    {
      "cell_type": "code",
      "metadata": {
        "id": "X30lwArugEjM",
        "colab_type": "code",
        "colab": {
          "base_uri": "https://localhost:8080/",
          "height": 153
        },
        "outputId": "9f56bd44-e969-4333-af32-6507d07ecee6"
      },
      "source": [
        "print(digits.images[0])"
      ],
      "execution_count": 27,
      "outputs": [
        {
          "output_type": "stream",
          "text": [
            "[[ 0.  0.  5. 13.  9.  1.  0.  0.]\n",
            " [ 0.  0. 13. 15. 10. 15.  5.  0.]\n",
            " [ 0.  3. 15.  2.  0. 11.  8.  0.]\n",
            " [ 0.  4. 12.  0.  0.  8.  8.  0.]\n",
            " [ 0.  5.  8.  0.  0.  9.  8.  0.]\n",
            " [ 0.  4. 11.  0.  1. 12.  7.  0.]\n",
            " [ 0.  2. 14.  5. 10. 12.  0.  0.]\n",
            " [ 0.  0.  6. 13. 10.  0.  0.  0.]]\n"
          ],
          "name": "stdout"
        }
      ]
    },
    {
      "cell_type": "code",
      "metadata": {
        "id": "wQYn0o2zgHqX",
        "colab_type": "code",
        "colab": {
          "base_uri": "https://localhost:8080/",
          "height": 34
        },
        "outputId": "69a5d9a5-c47b-4a35-f19e-6386af67ce33"
      },
      "source": [
        "print(digits.target[0])"
      ],
      "execution_count": 29,
      "outputs": [
        {
          "output_type": "stream",
          "text": [
            "0\n"
          ],
          "name": "stdout"
        }
      ]
    },
    {
      "cell_type": "code",
      "metadata": {
        "id": "xS_qxPHHgQiB",
        "colab_type": "code",
        "colab": {
          "base_uri": "https://localhost:8080/",
          "height": 34
        },
        "outputId": "22f8edb0-e09f-479a-bb66-cc7f3addca48"
      },
      "source": [
        "print('전체 샘플의 수 : {}'.format(len(digits.images)))"
      ],
      "execution_count": 30,
      "outputs": [
        {
          "output_type": "stream",
          "text": [
            "전체 샘플의 수 : 1797\n"
          ],
          "name": "stdout"
        }
      ]
    },
    {
      "cell_type": "code",
      "metadata": {
        "id": "Kdn6ktQjgVYa",
        "colab_type": "code",
        "colab": {
          "base_uri": "https://localhost:8080/",
          "height": 105
        },
        "outputId": "634ec4fa-63d7-4ed1-8d30-0e015e89388a"
      },
      "source": [
        "images_and_labels = list(zip(digits.images, digits.target))\n",
        "for idx, (image, label) in enumerate(images_and_labels[:5]):\n",
        "    plt.subplot(2, 5, idx + 1)\n",
        "    plt.axis('off')\n",
        "    plt.imshow(image, cmap=plt.cm.gray_r, interpolation='nearest')\n",
        "    plt.title('sample: %i' %label)"
      ],
      "execution_count": 31,
      "outputs": [
        {
          "output_type": "display_data",
          "data": {
            "image/png": "[encoded data removed]",
            "text/plain": [
              "<Figure size 432x288 with 5 Axes>"
            ]
          },
          "metadata": {
            "tags": [],
            "needs_background": "light"
          }
        }
      ]
    },
    {
      "cell_type": "code",
      "metadata": {
        "id": "0NfLEbscg0Rv",
        "colab_type": "code",
        "colab": {
          "base_uri": "https://localhost:8080/",
          "height": 102
        },
        "outputId": "840b79bb-63c8-4686-e0e0-5677fc546ca1"
      },
      "source": [
        "for i in range(5):\n",
        "    print(i, '번 인덱스 샘플의 레이블 : ', digits.target[i])"
      ],
      "execution_count": 32,
      "outputs": [
        {
          "output_type": "stream",
          "text": [
            "0 번 인덱스 샘플의 레이블 :  0\n",
            "1 번 인덱스 샘플의 레이블 :  1\n",
            "2 번 인덱스 샘플의 레이블 :  2\n",
            "3 번 인덱스 샘플의 레이블 :  3\n",
            "4 번 인덱스 샘플의 레이블 :  4\n"
          ],
          "name": "stdout"
        }
      ]
    },
    {
      "cell_type": "code",
      "metadata": {
        "id": "PifDmdq8hrQC",
        "colab_type": "code",
        "colab": {
          "base_uri": "https://localhost:8080/",
          "height": 85
        },
        "outputId": "5be7eb36-1d16-4a4b-8fc6-5d031beda2a0"
      },
      "source": [
        "print(digits.data[0])"
      ],
      "execution_count": 33,
      "outputs": [
        {
          "output_type": "stream",
          "text": [
            "[ 0.  0.  5. 13.  9.  1.  0.  0.  0.  0. 13. 15. 10. 15.  5.  0.  0.  3.\n",
            " 15.  2.  0. 11.  8.  0.  0.  4. 12.  0.  0.  8.  8.  0.  0.  5.  8.  0.\n",
            "  0.  9.  8.  0.  0.  4. 11.  0.  1. 12.  7.  0.  0.  2. 14.  5. 10. 12.\n",
            "  0.  0.  0.  0.  6. 13. 10.  0.  0.  0.]\n"
          ],
          "name": "stdout"
        }
      ]
    },
    {
      "cell_type": "code",
      "metadata": {
        "id": "Ct10ND1ahvDh",
        "colab_type": "code",
        "colab": {}
      },
      "source": [
        "X = digits.data\n",
        "Y = digits.target"
      ],
      "execution_count": 34,
      "outputs": []
    },
    {
      "cell_type": "code",
      "metadata": {
        "id": "-uPAvj-dhzVr",
        "colab_type": "code",
        "colab": {}
      },
      "source": [
        "import torch\n",
        "import torch.nn as nn\n",
        "from torch import optim"
      ],
      "execution_count": 35,
      "outputs": []
    },
    {
      "cell_type": "code",
      "metadata": {
        "id": "W8FtqRErh9OM",
        "colab_type": "code",
        "colab": {}
      },
      "source": [
        "model = nn.Sequential(\n",
        "    nn.Linear(64, 32),\n",
        "    nn.ReLU(),\n",
        "    nn.Linear(32, 16),\n",
        "    nn.ReLU(),\n",
        "    nn.Linear(16, 10)\n",
        ")"
      ],
      "execution_count": 37,
      "outputs": []
    },
    {
      "cell_type": "code",
      "metadata": {
        "id": "3Ch-vsnRiLzi",
        "colab_type": "code",
        "colab": {}
      },
      "source": [
        "X = torch.tensor(X, dtype=torch.float32)\n",
        "Y = torch.tensor(Y, dtype=torch.int64)"
      ],
      "execution_count": 38,
      "outputs": []
    },
    {
      "cell_type": "code",
      "metadata": {
        "id": "H9PksGFqiW08",
        "colab_type": "code",
        "colab": {}
      },
      "source": [
        "loss_fn = nn.CrossEntropyLoss()"
      ],
      "execution_count": 39,
      "outputs": []
    },
    {
      "cell_type": "code",
      "metadata": {
        "id": "oD44OLTpiZzQ",
        "colab_type": "code",
        "colab": {}
      },
      "source": [
        "optimizer = optim.Adam(model.parameters())"
      ],
      "execution_count": 40,
      "outputs": []
    },
    {
      "cell_type": "code",
      "metadata": {
        "id": "FpDreqIaie9i",
        "colab_type": "code",
        "colab": {}
      },
      "source": [
        "losses = []"
      ],
      "execution_count": 41,
      "outputs": []
    },
    {
      "cell_type": "code",
      "metadata": {
        "id": "8AKOgyQHigTG",
        "colab_type": "code",
        "colab": {
          "base_uri": "https://localhost:8080/",
          "height": 204
        },
        "outputId": "58c34adc-6c65-4819-8ec2-596724d882a0"
      },
      "source": [
        "for epoch in range(101):\n",
        "    optimizer.zero_grad()\n",
        "    y_pred = model(X)\n",
        "    loss = loss_fn(y_pred, Y)\n",
        "    loss.backward()\n",
        "    optimizer.step()\n",
        "\n",
        "    if epoch % 10 == 0:\n",
        "        print('Epoch {:4d}/{} Cost: {:.6f}'.format(\n",
        "            epoch, 100, loss.item()\n",
        "        ))\n",
        "\n",
        "    losses.append(loss.item())"
      ],
      "execution_count": 44,
      "outputs": [
        {
          "output_type": "stream",
          "text": [
            "Epoch    0/100 Cost: 2.570174\n",
            "Epoch   10/100 Cost: 2.092407\n",
            "Epoch   20/100 Cost: 1.755328\n",
            "Epoch   30/100 Cost: 1.411327\n",
            "Epoch   40/100 Cost: 1.085276\n",
            "Epoch   50/100 Cost: 0.790269\n",
            "Epoch   60/100 Cost: 0.567966\n",
            "Epoch   70/100 Cost: 0.417588\n",
            "Epoch   80/100 Cost: 0.321636\n",
            "Epoch   90/100 Cost: 0.256938\n",
            "Epoch  100/100 Cost: 0.211646\n"
          ],
          "name": "stdout"
        }
      ]
    },
    {
      "cell_type": "code",
      "metadata": {
        "id": "hzYmCh9Qi7G2",
        "colab_type": "code",
        "colab": {
          "base_uri": "https://localhost:8080/",
          "height": 282
        },
        "outputId": "dcc6ea8c-6fb2-4e50-f832-03e963c160f4"
      },
      "source": [
        "plt.plot(losses)"
      ],
      "execution_count": 45,
      "outputs": [
        {
          "output_type": "execute_result",
          "data": {
            "text/plain": [
              "[<matplotlib.lines.Line2D at 0x7f7b13832be0>]"
            ]
          },
          "metadata": {
            "tags": []
          },
          "execution_count": 45
        },
        {
          "output_type": "display_data",
          "data": {
            "image/png": "[encoded data removed]",
            "text/plain": [
              "<Figure size 432x288 with 1 Axes>"
            ]
          },
          "metadata": {
            "tags": [],
            "needs_background": "light"
          }
        }
      ]
    },
    {
      "cell_type": "markdown",
      "metadata": {
        "id": "YIQNCKJ_jKVY",
        "colab_type": "text"
      },
      "source": [
        "# 다층 퍼셉트론으로 MNIST 분류하기"
      ]
    },
    {
      "cell_type": "code",
      "metadata": {
        "id": "YQ4tsDcXjB1t",
        "colab_type": "code",
        "colab": {}
      },
      "source": [
        ""
      ],
      "execution_count": null,
      "outputs": []
    }
  ]
}